{
 "cells": [
  {
   "cell_type": "code",
   "execution_count": 43,
   "metadata": {},
   "outputs": [
    {
     "name": "stdout",
     "output_type": "stream",
     "text": [
      "Requirement already satisfied: pandas in /opt/anaconda3/lib/python3.11/site-packages (2.2.2)\n",
      "Requirement already satisfied: numpy>=1.23.2 in /opt/anaconda3/lib/python3.11/site-packages (from pandas) (1.26.4)\n",
      "Requirement already satisfied: python-dateutil>=2.8.2 in /opt/anaconda3/lib/python3.11/site-packages (from pandas) (2.8.2)\n",
      "Requirement already satisfied: pytz>=2020.1 in /opt/anaconda3/lib/python3.11/site-packages (from pandas) (2023.3.post1)\n",
      "Requirement already satisfied: tzdata>=2022.7 in /opt/anaconda3/lib/python3.11/site-packages (from pandas) (2023.3)\n",
      "Requirement already satisfied: six>=1.5 in /opt/anaconda3/lib/python3.11/site-packages (from python-dateutil>=2.8.2->pandas) (1.16.0)\n",
      "Note: you may need to restart the kernel to use updated packages.\n"
     ]
    }
   ],
   "source": [
    "pip install pandas"
   ]
  },
  {
   "cell_type": "code",
   "execution_count": 58,
   "metadata": {},
   "outputs": [
    {
     "name": "stdout",
     "output_type": "stream",
     "text": [
      "Index(['Country Name', 'Country Code', '1990 [YR1990]', '2000 [YR2000]',\n",
      "       '2014 [YR2014]', '2015 [YR2015]', '2016 [YR2016]', '2017 [YR2017]',\n",
      "       '2018 [YR2018]', '2019 [YR2019]', '2020 [YR2020]', '2021 [YR2021]',\n",
      "       '2022 [YR2022]', '2023 [YR2023]'],\n",
      "      dtype='object')\n"
     ]
    }
   ],
   "source": [
    "import pandas as pd\n",
    "\n",
    "# Read the CSV file into a DataFrame, skipping metadata rows\n",
    "worldbank_df = pd.read_csv('data/World_Bank/World_Bank_GDP.csv', encoding='utf-8')\n",
    "\n",
    "# Print the column names to identify the exact names\n",
    "print(worldbank_df.columns)"
   ]
  },
  {
   "cell_type": "code",
   "execution_count": 59,
   "metadata": {},
   "outputs": [],
   "source": [
    "# Select only the 'Country Name' and '2023 [YR2023]' columns\n",
    "gdp_df = worldbank_df[['Country Name', '2023 [YR2023]']]\n",
    "\n",
    "# Rename columns for clarity\n",
    "gdp_df.columns = ['Country Name', 'GDP']"
   ]
  },
  {
   "cell_type": "code",
   "execution_count": 60,
   "metadata": {},
   "outputs": [],
   "source": [
    "# Remove rows where GDP is null or contains '..'\n",
    "gdp_df = gdp_df[gdp_df['GDP'].notnull() & (gdp_df['GDP'] != '..')]"
   ]
  },
  {
   "cell_type": "code",
   "execution_count": 61,
   "metadata": {},
   "outputs": [],
   "source": [
    "# Optionally, convert GDP to numeric (this will handle any non-numeric values)\n",
    "gdp_df['GDP'] = pd.to_numeric(gdp_df['GDP'], errors='coerce')"
   ]
  },
  {
   "cell_type": "code",
   "execution_count": 62,
   "metadata": {},
   "outputs": [],
   "source": [
    "# Remove rows where GDP could not be converted to numeric\n",
    "gdp_df = gdp_df[gdp_df['GDP'].notnull()]\n",
    "\n",
    "# Reset index\n",
    "gdp_df = gdp_df.reset_index(drop=True)"
   ]
  },
  {
   "cell_type": "code",
   "execution_count": 63,
   "metadata": {},
   "outputs": [
    {
     "name": "stdout",
     "output_type": "stream",
     "text": [
      "            Country Name           GDP\n",
      "0                Albania  2.297768e+10\n",
      "1                Algeria  2.398995e+11\n",
      "2                Andorra  3.727674e+09\n",
      "3                 Angola  8.472296e+10\n",
      "4    Antigua and Barbuda  2.033085e+09\n",
      "..                   ...           ...\n",
      "181              Vanuatu  1.126313e+09\n",
      "182             Viet Nam  4.297170e+11\n",
      "183   West Bank and Gaza  1.739630e+10\n",
      "184               Zambia  2.816263e+10\n",
      "185             Zimbabwe  2.653827e+10\n",
      "\n",
      "[186 rows x 2 columns]\n"
     ]
    }
   ],
   "source": [
    "# Print the resulting DataFrame\n",
    "print(gdp_df)"
   ]
  },
  {
   "cell_type": "code",
   "execution_count": 64,
   "metadata": {},
   "outputs": [
    {
     "name": "stdout",
     "output_type": "stream",
     "text": [
      "            Country Name         GDP\n",
      "0                Albania   22977.68M\n",
      "1                Algeria  239899.49M\n",
      "2                Andorra    3727.67M\n",
      "3                 Angola   84722.96M\n",
      "4    Antigua and Barbuda    2033.09M\n",
      "..                   ...         ...\n",
      "181              Vanuatu    1126.31M\n",
      "182             Viet Nam  429716.97M\n",
      "183   West Bank and Gaza   17396.30M\n",
      "184               Zambia   28162.63M\n",
      "185             Zimbabwe   26538.27M\n",
      "\n",
      "[186 rows x 2 columns]\n"
     ]
    }
   ],
   "source": [
    "# Convert GDP to millions\n",
    "gdp_df['GDP'] = gdp_df['GDP'] / 1_000_000\n",
    "\n",
    "# Optionally, format GDP values to two decimal places\n",
    "gdp_df['GDP'] = gdp_df['GDP'].apply(lambda x: f\"{x:.2f}M\")\n",
    "\n",
    "# Print the resulting DataFrame\n",
    "print(gdp_df)"
   ]
  }
 ],
 "metadata": {
  "kernelspec": {
   "display_name": "base",
   "language": "python",
   "name": "python3"
  },
  "language_info": {
   "codemirror_mode": {
    "name": "ipython",
    "version": 3
   },
   "file_extension": ".py",
   "mimetype": "text/x-python",
   "name": "python",
   "nbconvert_exporter": "python",
   "pygments_lexer": "ipython3",
   "version": "3.11.7"
  }
 },
 "nbformat": 4,
 "nbformat_minor": 2
}
