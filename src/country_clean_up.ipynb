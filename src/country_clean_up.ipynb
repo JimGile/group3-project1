{
 "cells": [
  {
   "cell_type": "code",
   "execution_count": null,
   "metadata": {},
   "outputs": [],
   "source": [
    "# Need to come up with a way to clean up country names and codes\n",
    "# Creaet dataset with 3 Char Country Codes with various country names\n",
    "# Columns: country_code, country_name1, country_name2, country_name3, country_name4\n",
    "# Gather data from olypic-games-medals, happiness-report, nutrition, and world_bank_data\n",
    "\n",
    "# Least comon denominator of countries and years between the datasets.\n"
   ]
  },
  {
   "cell_type": "code",
   "execution_count": null,
   "metadata": {},
   "outputs": [],
   "source": []
  }
 ],
 "metadata": {
  "language_info": {
   "name": "python"
  }
 },
 "nbformat": 4,
 "nbformat_minor": 2
}
