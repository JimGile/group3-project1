{
 "cells": [
  {
   "cell_type": "code",
   "execution_count": null,
   "metadata": {},
   "outputs": [],
   "source": [
    "# Need to come up with a way to clean up country names and codes\n",
    "# Creaet dataset with 3 Char Country Codes with various country names\n",
    "# Columns: country_code, country_name1, country_name2, country_name3, country_name4\n",
    "# Gather data from olypic-games-medals, happiness-report, nutrition, and world_bank_data\n",
    "\n",
    "# Least comon denominator of countries and years between the datasets.\n"
   ]
  },
  {
   "cell_type": "code",
   "execution_count": null,
   "metadata": {},
   "outputs": [],
   "source": [
    "# Final dataset:\n",
    "# index (rows): year\n",
    "# columns: year, country_name, country_code, gold, silver, bronze, gdp_per_capita, gdp, nutrition_index, happiness_score"
   ]
  }
 ],
 "metadata": {
  "language_info": {
   "name": "python"
  }
 },
 "nbformat": 4,
 "nbformat_minor": 2
}
