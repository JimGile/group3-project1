{
 "cells": [
  {
   "cell_type": "code",
   "execution_count": null,
   "metadata": {},
   "outputs": [],
   "source": [
    "import pandas as pd\n",
    "import matplotlib.pyplot as plt"
   ]
  },
  {
   "cell_type": "code",
   "execution_count": null,
   "metadata": {},
   "outputs": [],
   "source": [
    "\n",
    "\n",
    "# Read the CSV file into a DataFrame, skipping metadata rows\n",
    "worldbank_all_df = pd.read_csv('data/World_Bank/GDP_1960_2023.csv', encoding='utf-8')\n",
    "\n",
    "# Print the column names to identify the exact names\n",
    "print(worldbank_all_df.columns)"
   ]
  },
  {
   "cell_type": "code",
   "execution_count": null,
   "metadata": {},
   "outputs": [],
   "source": [
    "worldbank_all_df = worldbank_all_df.drop(columns=['Unnamed: 66'])"
   ]
  },
  {
   "cell_type": "code",
   "execution_count": null,
   "metadata": {},
   "outputs": [],
   "source": [
    "worldbank_all_df.head()"
   ]
  },
  {
   "cell_type": "code",
   "execution_count": null,
   "metadata": {},
   "outputs": [],
   "source": [
    "# Convert all GDP columns to numeric, forcing errors to null\n",
    "for col in worldbank_all_df.columns[2:]:\n",
    "    worldbank_all_df[col] = pd.to_numeric(worldbank_all_df[col], errors='coerce')\n",
    "\n",
    "# Convert GDP values to millions\n",
    "for col in worldbank_all_df.columns[2:]:\n",
    "    worldbank_all_df[col] = worldbank_all_df[col] / 1e6"
   ]
  },
  {
   "cell_type": "code",
   "execution_count": null,
   "metadata": {},
   "outputs": [],
   "source": [
    "# Format the numeric columns\n",
    "worldbank_all_df.iloc[:, 2:] = worldbank_all_df.iloc[:, 2:].applymap(lambda x: f\"{x:.2f}M\" if pd.notna(x) else \"NaN\")"
   ]
  },
  {
   "cell_type": "code",
   "execution_count": null,
   "metadata": {},
   "outputs": [],
   "source": [
    "worldbank_all_df.columns = ['Country Name', 'Country Code'] + [str(year) for year in range(1960, 2024)]"
   ]
  },
  {
   "cell_type": "code",
   "execution_count": null,
   "metadata": {},
   "outputs": [],
   "source": [
    "print(worldbank_all_df.head())"
   ]
  },
  {
   "cell_type": "code",
   "execution_count": null,
   "metadata": {},
   "outputs": [],
   "source": [
    "# Remove the 'M' suffix and convert to numeric\n",
    "# Skip the first two columns (Country Name and Country Code)\n",
    "for column in worldbank_all_df.columns[2:]:  \n",
    "    worldbank_all_df[column] = worldbank_all_df[column].replace({',': ''}, regex=True)  \n",
    "\n",
    "# Remove commas if any\n",
    "    worldbank_all_df[column] = pd.to_numeric(worldbank_all_df[column].str.replace('M', ''), errors='coerce')"
   ]
  },
  {
   "cell_type": "code",
   "execution_count": null,
   "metadata": {},
   "outputs": [],
   "source": [
    "# Calculate the average for each country\n",
    "worldbank_all_df['Average'] = worldbank_all_df.iloc[:, 2:].mean(axis=1).round(2)\n",
    "\n",
    "worldbank_all_df.head()"
   ]
  },
  {
   "cell_type": "code",
   "execution_count": null,
   "metadata": {},
   "outputs": [],
   "source": [
    "#create clean data file\n",
    "# worldbank_all_df.to_csv('data/World_Bank/World_Bank_GDP_Cleaned.csv', index=False)\n"
   ]
  },
  {
   "cell_type": "code",
   "execution_count": null,
   "metadata": {},
   "outputs": [],
   "source": [
    "#create plotting data frame\n",
    "plotting_GDP = worldbank_all_df.drop(columns=['Average', 'Country Code'])\n",
    "plotting_GDP.set_index('Country Name', inplace=True)\n"
   ]
  },
  {
   "cell_type": "code",
   "execution_count": null,
   "metadata": {},
   "outputs": [],
   "source": [
    "#Transpose DataFrame to have years as x and countries as y and create fig size\n",
    "plotting_GDP = plotting_GDP.T\n",
    "\n",
    "plt.figure(figsize=(14, 8))"
   ]
  },
  {
   "cell_type": "code",
   "execution_count": null,
   "metadata": {},
   "outputs": [],
   "source": [
    "\n",
    "# Plot each country's GDP\n",
    "for country in plotting_GDP.columns:\n",
    "    plt.plot(plotting_GDP.index, plotting_GDP[country], label=country)"
   ]
  }
 ],
 "metadata": {
  "kernelspec": {
   "display_name": "base",
   "language": "python",
   "name": "python3"
  },
  "language_info": {
   "codemirror_mode": {
    "name": "ipython",
    "version": 3
   },
   "file_extension": ".py",
   "mimetype": "text/x-python",
   "name": "python",
   "nbconvert_exporter": "python",
   "pygments_lexer": "ipython3",
   "version": "3.11.7"
  }
 },
 "nbformat": 4,
 "nbformat_minor": 2
}
